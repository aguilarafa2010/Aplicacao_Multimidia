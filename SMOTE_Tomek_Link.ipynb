{
  "nbformat": 4,
  "nbformat_minor": 0,
  "metadata": {
    "colab": {
      "name": "SMOTE-Tomek Link",
      "provenance": [],
      "authorship_tag": "ABX9TyPu97S3ORGvmabDBjyUsAP+",
      "include_colab_link": true
    },
    "kernelspec": {
      "name": "python3",
      "display_name": "Python 3"
    },
    "language_info": {
      "name": "python"
    }
  },
  "cells": [
    {
      "cell_type": "markdown",
      "metadata": {
        "id": "view-in-github",
        "colab_type": "text"
      },
      "source": [
        "<a href=\"https://colab.research.google.com/github/aguilarafa2010/Aplicacao_Multimidia/blob/main/SMOTE_Tomek_Link.ipynb\" target=\"_parent\"><img src=\"https://colab.research.google.com/assets/colab-badge.svg\" alt=\"Open In Colab\"/></a>"
      ]
    },
    {
      "cell_type": "markdown",
      "metadata": {
        "id": "FGxjoM2N1HRS"
      },
      "source": [
        "## Code from the Article: Imbalanced Classification in Python: SMOTE-Tomek Links Method"
      ]
    },
    {
      "cell_type": "code",
      "metadata": {
        "colab": {
          "base_uri": "https://localhost:8080/"
        },
        "id": "AwR6QNjMspCJ",
        "outputId": "1c6294b8-e87c-4de5-be12-e8f688c2d51d"
      },
      "source": [
        "import pandas as pd\n",
        "import numpy as np\n",
        "from imblearn.pipeline import Pipeline\n",
        "import matplotlib.pyplot as plt\n",
        "from sklearn.datasets import make_classification\n",
        "from sklearn.model_selection import cross_validate\n",
        "from sklearn.model_selection import RepeatedStratifiedKFold\n",
        "from sklearn.ensemble import RandomForestClassifier\n",
        "from imblearn.combine import SMOTETomek\n",
        "from imblearn.under_sampling import TomekLinks"
      ],
      "execution_count": 1,
      "outputs": [
        {
          "output_type": "stream",
          "name": "stderr",
          "text": [
            "/usr/local/lib/python3.7/dist-packages/sklearn/externals/six.py:31: FutureWarning: The module is deprecated in version 0.21 and will be removed in version 0.23 since we've dropped support for Python 2.7. Please rely on the official version of six (https://pypi.org/project/six/).\n",
            "  \"(https://pypi.org/project/six/).\", FutureWarning)\n",
            "/usr/local/lib/python3.7/dist-packages/sklearn/utils/deprecation.py:144: FutureWarning: The sklearn.neighbors.base module is  deprecated in version 0.22 and will be removed in version 0.24. The corresponding classes / functions should instead be imported from sklearn.neighbors. Anything that cannot be imported from sklearn.neighbors is now part of the private API.\n",
            "  warnings.warn(message, FutureWarning)\n"
          ]
        }
      ]
    },
    {
      "cell_type": "code",
      "metadata": {
        "id": "u-n-iNois-fL"
      },
      "source": [
        "#Dummy dataset study case\n",
        "X, Y = make_classification(n_samples=10000, n_features=4, n_redundant=0,\n",
        "                           n_clusters_per_class=1, weights=[0.99], flip_y=0, random_state=1)"
      ],
      "execution_count": 2,
      "outputs": []
    },
    {
      "cell_type": "code",
      "metadata": {
        "colab": {
          "base_uri": "https://localhost:8080/"
        },
        "id": "o-UP5aIStJ9v",
        "outputId": "33c1638b-7c6e-44cd-aad9-109771d57799"
      },
      "source": [
        "## No Imbalance Handling\n",
        "# Define model\n",
        "model_ori=RandomForestClassifier(criterion='entropy')\n",
        "# Define evaluation procedure (here we use Repeated Stratified K-Fold CV)\n",
        "cv_ori=RepeatedStratifiedKFold(n_splits=10, n_repeats=3, random_state=1)\n",
        "# Evaluate model\n",
        "scoring=['accuracy','precision_macro','recall_macro']\n",
        "scores_ori = cross_validate(model_ori, X, Y, scoring=scoring, cv=cv_ori, n_jobs=-1)\n",
        "# summarize performance\n",
        "print('Mean Accuracy: %.4f' % np.mean(scores_ori['test_accuracy']))\n",
        "print('Mean Precision: %.4f' % np.mean(scores_ori['test_precision_macro']))\n",
        "print('Mean Recall: %.4f' % np.mean(scores_ori['test_recall_macro']))"
      ],
      "execution_count": 3,
      "outputs": [
        {
          "output_type": "stream",
          "name": "stdout",
          "text": [
            "Mean Accuracy: 0.9941\n",
            "Mean Precision: 0.9371\n",
            "Mean Recall: 0.7446\n"
          ]
        }
      ]
    },
    {
      "cell_type": "code",
      "metadata": {
        "colab": {
          "base_uri": "https://localhost:8080/"
        },
        "id": "Nx8c2c4ttnBb",
        "outputId": "ee5b02f5-241b-4e6b-a5c8-d36db2e07b85"
      },
      "source": [
        "## With SMOTE-Tomek Links method\n",
        "# Define model\n",
        "model=RandomForestClassifier(criterion='entropy')\n",
        "# Define SMOTE-Tomek Links\n",
        "resample=SMOTETomek(tomek=TomekLinks(sampling_strategy='majority'))\n",
        "# Define pipeline\n",
        "pipeline=Pipeline(steps=[('r', resample), ('m', model)])\n",
        "# Define evaluation procedure (here we use Repeated Stratified K-Fold CV)\n",
        "cv=RepeatedStratifiedKFold(n_splits=10, n_repeats=3, random_state=1)\n",
        "# Evaluate model\n",
        "scoring=['accuracy','precision_macro','recall_macro']\n",
        "scores = cross_validate(pipeline, X, Y, scoring=scoring, cv=cv, n_jobs=-1)\n",
        "# summarize performance\n",
        "print('Mean Accuracy: %.4f' % np.mean(scores['test_accuracy']))\n",
        "print('Mean Precision: %.4f' % np.mean(scores['test_precision_macro']))\n",
        "print('Mean Recall: %.4f' % np.mean(scores['test_recall_macro']))"
      ],
      "execution_count": 4,
      "outputs": [
        {
          "output_type": "stream",
          "name": "stdout",
          "text": [
            "Mean Accuracy: 0.9811\n",
            "Mean Precision: 0.6537\n",
            "Mean Recall: 0.8420\n"
          ]
        }
      ]
    },
    {
      "cell_type": "code",
      "metadata": {
        "colab": {
          "base_uri": "https://localhost:8080/",
          "height": 241
        },
        "id": "LDKpp8OIu8YD",
        "outputId": "c776fc26-31ba-4f9e-fbde-8c14f5b2fc04"
      },
      "source": [
        "data=pd.read_csv(\"churn-bigml-80.csv\")\n",
        "data.head()"
      ],
      "execution_count": 14,
      "outputs": [
        {
          "output_type": "execute_result",
          "data": {
            "text/html": [
              "<div>\n",
              "<style scoped>\n",
              "    .dataframe tbody tr th:only-of-type {\n",
              "        vertical-align: middle;\n",
              "    }\n",
              "\n",
              "    .dataframe tbody tr th {\n",
              "        vertical-align: top;\n",
              "    }\n",
              "\n",
              "    .dataframe thead th {\n",
              "        text-align: right;\n",
              "    }\n",
              "</style>\n",
              "<table border=\"1\" class=\"dataframe\">\n",
              "  <thead>\n",
              "    <tr style=\"text-align: right;\">\n",
              "      <th></th>\n",
              "      <th>State</th>\n",
              "      <th>Account length</th>\n",
              "      <th>Area code</th>\n",
              "      <th>International plan</th>\n",
              "      <th>Voice mail plan</th>\n",
              "      <th>Number vmail messages</th>\n",
              "      <th>Total day minutes</th>\n",
              "      <th>Total day calls</th>\n",
              "      <th>Total day charge</th>\n",
              "      <th>Total eve minutes</th>\n",
              "      <th>Total eve calls</th>\n",
              "      <th>Total eve charge</th>\n",
              "      <th>Total night minutes</th>\n",
              "      <th>Total night calls</th>\n",
              "      <th>Total night charge</th>\n",
              "      <th>Total intl minutes</th>\n",
              "      <th>Total intl calls</th>\n",
              "      <th>Total intl charge</th>\n",
              "      <th>Customer service calls</th>\n",
              "      <th>Churn</th>\n",
              "    </tr>\n",
              "  </thead>\n",
              "  <tbody>\n",
              "    <tr>\n",
              "      <th>0</th>\n",
              "      <td>KS</td>\n",
              "      <td>128</td>\n",
              "      <td>415</td>\n",
              "      <td>No</td>\n",
              "      <td>Yes</td>\n",
              "      <td>25</td>\n",
              "      <td>265.1</td>\n",
              "      <td>110</td>\n",
              "      <td>45.07</td>\n",
              "      <td>197.4</td>\n",
              "      <td>99</td>\n",
              "      <td>16.78</td>\n",
              "      <td>244.7</td>\n",
              "      <td>91</td>\n",
              "      <td>11.01</td>\n",
              "      <td>10.0</td>\n",
              "      <td>3</td>\n",
              "      <td>2.70</td>\n",
              "      <td>1</td>\n",
              "      <td>False</td>\n",
              "    </tr>\n",
              "    <tr>\n",
              "      <th>1</th>\n",
              "      <td>OH</td>\n",
              "      <td>107</td>\n",
              "      <td>415</td>\n",
              "      <td>No</td>\n",
              "      <td>Yes</td>\n",
              "      <td>26</td>\n",
              "      <td>161.6</td>\n",
              "      <td>123</td>\n",
              "      <td>27.47</td>\n",
              "      <td>195.5</td>\n",
              "      <td>103</td>\n",
              "      <td>16.62</td>\n",
              "      <td>254.4</td>\n",
              "      <td>103</td>\n",
              "      <td>11.45</td>\n",
              "      <td>13.7</td>\n",
              "      <td>3</td>\n",
              "      <td>3.70</td>\n",
              "      <td>1</td>\n",
              "      <td>False</td>\n",
              "    </tr>\n",
              "    <tr>\n",
              "      <th>2</th>\n",
              "      <td>NJ</td>\n",
              "      <td>137</td>\n",
              "      <td>415</td>\n",
              "      <td>No</td>\n",
              "      <td>No</td>\n",
              "      <td>0</td>\n",
              "      <td>243.4</td>\n",
              "      <td>114</td>\n",
              "      <td>41.38</td>\n",
              "      <td>121.2</td>\n",
              "      <td>110</td>\n",
              "      <td>10.30</td>\n",
              "      <td>162.6</td>\n",
              "      <td>104</td>\n",
              "      <td>7.32</td>\n",
              "      <td>12.2</td>\n",
              "      <td>5</td>\n",
              "      <td>3.29</td>\n",
              "      <td>0</td>\n",
              "      <td>False</td>\n",
              "    </tr>\n",
              "    <tr>\n",
              "      <th>3</th>\n",
              "      <td>OH</td>\n",
              "      <td>84</td>\n",
              "      <td>408</td>\n",
              "      <td>Yes</td>\n",
              "      <td>No</td>\n",
              "      <td>0</td>\n",
              "      <td>299.4</td>\n",
              "      <td>71</td>\n",
              "      <td>50.90</td>\n",
              "      <td>61.9</td>\n",
              "      <td>88</td>\n",
              "      <td>5.26</td>\n",
              "      <td>196.9</td>\n",
              "      <td>89</td>\n",
              "      <td>8.86</td>\n",
              "      <td>6.6</td>\n",
              "      <td>7</td>\n",
              "      <td>1.78</td>\n",
              "      <td>2</td>\n",
              "      <td>False</td>\n",
              "    </tr>\n",
              "    <tr>\n",
              "      <th>4</th>\n",
              "      <td>OK</td>\n",
              "      <td>75</td>\n",
              "      <td>415</td>\n",
              "      <td>Yes</td>\n",
              "      <td>No</td>\n",
              "      <td>0</td>\n",
              "      <td>166.7</td>\n",
              "      <td>113</td>\n",
              "      <td>28.34</td>\n",
              "      <td>148.3</td>\n",
              "      <td>122</td>\n",
              "      <td>12.61</td>\n",
              "      <td>186.9</td>\n",
              "      <td>121</td>\n",
              "      <td>8.41</td>\n",
              "      <td>10.1</td>\n",
              "      <td>3</td>\n",
              "      <td>2.73</td>\n",
              "      <td>3</td>\n",
              "      <td>False</td>\n",
              "    </tr>\n",
              "  </tbody>\n",
              "</table>\n",
              "</div>"
            ],
            "text/plain": [
              "  State  Account length  ...  Customer service calls  Churn\n",
              "0    KS             128  ...                       1  False\n",
              "1    OH             107  ...                       1  False\n",
              "2    NJ             137  ...                       0  False\n",
              "3    OH              84  ...                       2  False\n",
              "4    OK              75  ...                       3  False\n",
              "\n",
              "[5 rows x 20 columns]"
            ]
          },
          "metadata": {},
          "execution_count": 14
        }
      ]
    },
    {
      "cell_type": "code",
      "metadata": {
        "colab": {
          "base_uri": "https://localhost:8080/"
        },
        "id": "ROtOO1w2vRyN",
        "outputId": "e0d0f4a7-35ef-426b-84be-1c3a842f177c"
      },
      "source": [
        "## The description of the dataset\n",
        "data.info()"
      ],
      "execution_count": 15,
      "outputs": [
        {
          "output_type": "stream",
          "name": "stdout",
          "text": [
            "<class 'pandas.core.frame.DataFrame'>\n",
            "RangeIndex: 2666 entries, 0 to 2665\n",
            "Data columns (total 20 columns):\n",
            " #   Column                  Non-Null Count  Dtype  \n",
            "---  ------                  --------------  -----  \n",
            " 0   State                   2666 non-null   object \n",
            " 1   Account length          2666 non-null   int64  \n",
            " 2   Area code               2666 non-null   int64  \n",
            " 3   International plan      2666 non-null   object \n",
            " 4   Voice mail plan         2666 non-null   object \n",
            " 5   Number vmail messages   2666 non-null   int64  \n",
            " 6   Total day minutes       2666 non-null   float64\n",
            " 7   Total day calls         2666 non-null   int64  \n",
            " 8   Total day charge        2666 non-null   float64\n",
            " 9   Total eve minutes       2666 non-null   float64\n",
            " 10  Total eve calls         2666 non-null   int64  \n",
            " 11  Total eve charge        2666 non-null   float64\n",
            " 12  Total night minutes     2666 non-null   float64\n",
            " 13  Total night calls       2666 non-null   int64  \n",
            " 14  Total night charge      2666 non-null   float64\n",
            " 15  Total intl minutes      2666 non-null   float64\n",
            " 16  Total intl calls        2666 non-null   int64  \n",
            " 17  Total intl charge       2666 non-null   float64\n",
            " 18  Customer service calls  2666 non-null   int64  \n",
            " 19  Churn                   2666 non-null   bool   \n",
            "dtypes: bool(1), float64(8), int64(8), object(3)\n",
            "memory usage: 398.5+ KB\n"
          ]
        }
      ]
    },
    {
      "cell_type": "code",
      "metadata": {
        "colab": {
          "base_uri": "https://localhost:8080/"
        },
        "id": "bV59KZypvfcV",
        "outputId": "9f72b9f6-0a3a-4079-e82e-25bfe331a33c"
      },
      "source": [
        "#Verify the numbe rof messing values\n",
        "data.isnull().sum()"
      ],
      "execution_count": 16,
      "outputs": [
        {
          "output_type": "execute_result",
          "data": {
            "text/plain": [
              "State                     0\n",
              "Account length            0\n",
              "Area code                 0\n",
              "International plan        0\n",
              "Voice mail plan           0\n",
              "Number vmail messages     0\n",
              "Total day minutes         0\n",
              "Total day calls           0\n",
              "Total day charge          0\n",
              "Total eve minutes         0\n",
              "Total eve calls           0\n",
              "Total eve charge          0\n",
              "Total night minutes       0\n",
              "Total night calls         0\n",
              "Total night charge        0\n",
              "Total intl minutes        0\n",
              "Total intl calls          0\n",
              "Total intl charge         0\n",
              "Customer service calls    0\n",
              "Churn                     0\n",
              "dtype: int64"
            ]
          },
          "metadata": {},
          "execution_count": 16
        }
      ]
    },
    {
      "cell_type": "code",
      "metadata": {
        "colab": {
          "base_uri": "https://localhost:8080/"
        },
        "id": "yZb1GM8Tvj8u",
        "outputId": "d6de2cab-b0c1-4257-9b61-dc7dc9cf8918"
      },
      "source": [
        "#Verify the number of data that belong to aech class in Churn\n",
        "data['Churn'].value_counts()"
      ],
      "execution_count": 17,
      "outputs": [
        {
          "output_type": "execute_result",
          "data": {
            "text/plain": [
              "False    2278\n",
              "True      388\n",
              "Name: Churn, dtype: int64"
            ]
          },
          "metadata": {},
          "execution_count": 17
        }
      ]
    },
    {
      "cell_type": "code",
      "metadata": {
        "id": "5w02hG-DwBQO"
      },
      "source": [
        "## Creating the Dummy variables\n",
        "data=data.drop('State',axis=1)\n",
        "data['Churn'].replace(to_replace=True, value=1, inplace=True)\n",
        "data['Churn'].replace(to_replace=False,  value=0, inplace=True)\n",
        "df_dummies=pd.get_dummies(data)\n",
        "df_dummies.head()\n",
        "#Churn dataset study case\n",
        "Y_churn=df_dummies['Churn'].values\n",
        "X_churn=df_dummies.drop('Churn',axis=1)"
      ],
      "execution_count": 18,
      "outputs": []
    },
    {
      "cell_type": "code",
      "metadata": {
        "colab": {
          "base_uri": "https://localhost:8080/"
        },
        "id": "tAmk_jzTwMqN",
        "outputId": "3d016b72-a653-469f-eb73-29fa76aa6f5b"
      },
      "source": [
        "## No Imbalance Handling\n",
        "# Define model\n",
        "model2_ori=RandomForestClassifier(criterion='entropy')\n",
        "# Define evaluation procedure (here we use Repeated Stratified K-Fold CV)\n",
        "cv2_ori=RepeatedStratifiedKFold(n_splits=10, n_repeats=3, random_state=1)\n",
        "# Evaluate model\n",
        "scoring=['accuracy','precision_macro','recall_macro']\n",
        "scores2_ori = cross_validate(model2_ori, X_churn, Y_churn, scoring=scoring, cv=cv2_ori, n_jobs=-1)\n",
        "# summarize performance\n",
        "print('Mean Accuracy: %.4f' % np.mean(scores2_ori['test_accuracy']))\n",
        "print('Mean Precision: %.4f' % np.mean(scores2_ori['test_precision_macro']))\n",
        "print('Mean Recall: %.4f' % np.mean(scores2_ori['test_recall_macro']))"
      ],
      "execution_count": 19,
      "outputs": [
        {
          "output_type": "stream",
          "name": "stdout",
          "text": [
            "Mean Accuracy: 0.9530\n",
            "Mean Precision: 0.9465\n",
            "Mean Recall: 0.8588\n"
          ]
        }
      ]
    },
    {
      "cell_type": "code",
      "metadata": {
        "colab": {
          "base_uri": "https://localhost:8080/"
        },
        "id": "eFq9o5qxwy6c",
        "outputId": "b03de521-728d-4b29-dbe8-ac4df592b3f4"
      },
      "source": [
        "## With SMOTE-Tomek Links method\n",
        "# Define model\n",
        "model2=RandomForestClassifier(criterion='entropy')\n",
        "# Define SMOTE-Tomek Links\n",
        "resample2=SMOTETomek(tomek=TomekLinks(sampling_strategy='majority'))\n",
        "# Define pipeline\n",
        "pipeline2=Pipeline(steps=[('r', resample2), ('m', model2)])\n",
        "# Define evaluation procedure (here we use Repeated Stratified K-Fold CV)\n",
        "cv2=RepeatedStratifiedKFold(n_splits=10, n_repeats=3, random_state=1)\n",
        "# Evaluate model\n",
        "scoring=['accuracy','precision_macro','recall_macro']\n",
        "scores2 = cross_validate(pipeline2, X_churn, Y_churn, scoring=scoring, cv=cv2, n_jobs=-1)\n",
        "# summarize performance\n",
        "print('Mean Accuracy: %.4f' % np.mean(scores2['test_accuracy']))\n",
        "print('Mean Precision: %.4f' % np.mean(scores2['test_precision_macro']))\n",
        "print('Mean Recall: %.4f' % np.mean(scores2['test_recall_macro']))"
      ],
      "execution_count": 20,
      "outputs": [
        {
          "output_type": "stream",
          "name": "stdout",
          "text": [
            "Mean Accuracy: 0.9484\n",
            "Mean Precision: 0.9103\n",
            "Mean Recall: 0.8782\n"
          ]
        }
      ]
    }
  ]
}